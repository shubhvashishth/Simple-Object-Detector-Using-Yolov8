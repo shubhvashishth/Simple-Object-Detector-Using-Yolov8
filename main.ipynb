{
 "cells": [
  {
   "attachments": {},
   "cell_type": "markdown",
   "metadata": {},
   "source": [
    "**Installation**\n"
   ]
  },
  {
   "cell_type": "code",
   "execution_count": 1,
   "metadata": {},
   "outputs": [
    {
     "name": "stdout",
     "output_type": "stream",
     "text": [
      "Collecting ultralytics\n",
      "  Downloading ultralytics-8.0.58-py3-none-any.whl (486 kB)\n",
      "\u001b[2K     \u001b[90m━━━━━━━━━━━━━━━━━━━━━━━━━━━━━━━━━━━━━━━\u001b[0m \u001b[32m486.8/486.8 kB\u001b[0m \u001b[31m4.2 MB/s\u001b[0m eta \u001b[36m0:00:00\u001b[0ma \u001b[36m0:00:01\u001b[0m\n",
      "\u001b[?25hRequirement already satisfied: Pillow>=7.1.2 in /Users/shubhvashishth/miniforge3/envs/Apple/lib/python3.10/site-packages (from ultralytics) (9.4.0)\n",
      "Collecting thop>=0.1.1\n",
      "  Downloading thop-0.1.1.post2209072238-py3-none-any.whl (15 kB)\n",
      "Requirement already satisfied: scipy>=1.4.1 in /Users/shubhvashishth/miniforge3/envs/Apple/lib/python3.10/site-packages (from ultralytics) (1.10.1)\n",
      "Collecting sentry-sdk\n",
      "  Downloading sentry_sdk-1.18.0-py2.py3-none-any.whl (194 kB)\n",
      "\u001b[2K     \u001b[90m━━━━━━━━━━━━━━━━━━━━━━━━━━━━━━━━━━━━━━━\u001b[0m \u001b[32m194.8/194.8 kB\u001b[0m \u001b[31m5.0 MB/s\u001b[0m eta \u001b[36m0:00:00\u001b[0m\n",
      "\u001b[?25hCollecting torchvision>=0.8.1\n",
      "  Downloading torchvision-0.15.1-cp310-cp310-macosx_11_0_arm64.whl (1.4 MB)\n",
      "\u001b[2K     \u001b[90m━━━━━━━━━━━━━━━━━━━━━━━━━━━━━━━━━━━━━━━━\u001b[0m \u001b[32m1.4/1.4 MB\u001b[0m \u001b[31m3.5 MB/s\u001b[0m eta \u001b[36m0:00:00\u001b[0ma \u001b[36m0:00:01\u001b[0m\n",
      "\u001b[?25hRequirement already satisfied: matplotlib>=3.2.2 in /Users/shubhvashishth/miniforge3/envs/Apple/lib/python3.10/site-packages (from ultralytics) (3.7.1)\n",
      "Requirement already satisfied: psutil in /Users/shubhvashishth/miniforge3/envs/Apple/lib/python3.10/site-packages (from ultralytics) (5.9.4)\n",
      "Collecting tqdm>=4.64.0\n",
      "  Downloading tqdm-4.65.0-py3-none-any.whl (77 kB)\n",
      "\u001b[2K     \u001b[90m━━━━━━━━━━━━━━━━━━━━━━━━━━━━━━━━━━━━━━━━\u001b[0m \u001b[32m77.1/77.1 kB\u001b[0m \u001b[31m4.5 MB/s\u001b[0m eta \u001b[36m0:00:00\u001b[0m\n",
      "\u001b[?25hRequirement already satisfied: numpy>=1.21.6 in /Users/shubhvashishth/miniforge3/envs/Apple/lib/python3.10/site-packages (from ultralytics) (1.23.2)\n",
      "Collecting PyYAML>=5.3.1\n",
      "  Using cached PyYAML-6.0-cp310-cp310-macosx_11_0_arm64.whl (173 kB)\n",
      "Collecting seaborn>=0.11.0\n",
      "  Using cached seaborn-0.12.2-py3-none-any.whl (293 kB)\n",
      "Collecting opencv-python>=4.6.0\n",
      "  Using cached opencv_python-4.7.0.72-cp37-abi3-macosx_11_0_arm64.whl (32.6 MB)\n",
      "Requirement already satisfied: pandas>=1.1.4 in /Users/shubhvashishth/miniforge3/envs/Apple/lib/python3.10/site-packages (from ultralytics) (1.5.3)\n",
      "Collecting torch>=1.7.0\n",
      "  Downloading torch-2.0.0-cp310-none-macosx_11_0_arm64.whl (55.8 MB)\n",
      "\u001b[2K     \u001b[90m━━━━━━━━━━━━━━━━━━━━━━━━━━━━━━━━━━━━━━━━\u001b[0m \u001b[32m55.8/55.8 MB\u001b[0m \u001b[31m6.1 MB/s\u001b[0m eta \u001b[36m0:00:00\u001b[0m00:01\u001b[0m00:01\u001b[0m\n",
      "\u001b[?25hRequirement already satisfied: requests>=2.23.0 in /Users/shubhvashishth/miniforge3/envs/Apple/lib/python3.10/site-packages (from ultralytics) (2.28.2)\n",
      "Requirement already satisfied: python-dateutil>=2.7 in /Users/shubhvashishth/miniforge3/envs/Apple/lib/python3.10/site-packages (from matplotlib>=3.2.2->ultralytics) (2.8.2)\n",
      "Requirement already satisfied: contourpy>=1.0.1 in /Users/shubhvashishth/miniforge3/envs/Apple/lib/python3.10/site-packages (from matplotlib>=3.2.2->ultralytics) (1.0.7)\n",
      "Requirement already satisfied: kiwisolver>=1.0.1 in /Users/shubhvashishth/miniforge3/envs/Apple/lib/python3.10/site-packages (from matplotlib>=3.2.2->ultralytics) (1.4.4)\n",
      "Requirement already satisfied: cycler>=0.10 in /Users/shubhvashishth/miniforge3/envs/Apple/lib/python3.10/site-packages (from matplotlib>=3.2.2->ultralytics) (0.11.0)\n",
      "Requirement already satisfied: fonttools>=4.22.0 in /Users/shubhvashishth/miniforge3/envs/Apple/lib/python3.10/site-packages (from matplotlib>=3.2.2->ultralytics) (4.39.0)\n",
      "Requirement already satisfied: pyparsing>=2.3.1 in /Users/shubhvashishth/miniforge3/envs/Apple/lib/python3.10/site-packages (from matplotlib>=3.2.2->ultralytics) (3.0.9)\n",
      "Requirement already satisfied: packaging>=20.0 in /Users/shubhvashishth/miniforge3/envs/Apple/lib/python3.10/site-packages (from matplotlib>=3.2.2->ultralytics) (23.0)\n",
      "Requirement already satisfied: pytz>=2020.1 in /Users/shubhvashishth/miniforge3/envs/Apple/lib/python3.10/site-packages (from pandas>=1.1.4->ultralytics) (2022.7.1)\n",
      "Requirement already satisfied: charset-normalizer<4,>=2 in /Users/shubhvashishth/miniforge3/envs/Apple/lib/python3.10/site-packages (from requests>=2.23.0->ultralytics) (2.1.1)\n",
      "Requirement already satisfied: urllib3<1.27,>=1.21.1 in /Users/shubhvashishth/miniforge3/envs/Apple/lib/python3.10/site-packages (from requests>=2.23.0->ultralytics) (1.26.14)\n",
      "Requirement already satisfied: certifi>=2017.4.17 in /Users/shubhvashishth/miniforge3/envs/Apple/lib/python3.10/site-packages (from requests>=2.23.0->ultralytics) (2022.12.7)\n",
      "Requirement already satisfied: idna<4,>=2.5 in /Users/shubhvashishth/miniforge3/envs/Apple/lib/python3.10/site-packages (from requests>=2.23.0->ultralytics) (3.4)\n",
      "Collecting sympy\n",
      "  Downloading sympy-1.11.1-py3-none-any.whl (6.5 MB)\n",
      "\u001b[2K     \u001b[90m━━━━━━━━━━━━━━━━━━━━━━━━━━━━━━━━━━━━━━━━\u001b[0m \u001b[32m6.5/6.5 MB\u001b[0m \u001b[31m6.6 MB/s\u001b[0m eta \u001b[36m0:00:00\u001b[0m00:01\u001b[0m00:01\u001b[0m\n",
      "\u001b[?25hCollecting jinja2\n",
      "  Using cached Jinja2-3.1.2-py3-none-any.whl (133 kB)\n",
      "Collecting networkx\n",
      "  Using cached networkx-3.0-py3-none-any.whl (2.0 MB)\n",
      "Collecting filelock\n",
      "  Downloading filelock-3.10.7-py3-none-any.whl (10 kB)\n",
      "Requirement already satisfied: typing-extensions in /Users/shubhvashishth/miniforge3/envs/Apple/lib/python3.10/site-packages (from torch>=1.7.0->ultralytics) (4.4.0)\n",
      "Requirement already satisfied: six>=1.5 in /Users/shubhvashishth/miniforge3/envs/Apple/lib/python3.10/site-packages (from python-dateutil>=2.7->matplotlib>=3.2.2->ultralytics) (1.15.0)\n",
      "Requirement already satisfied: MarkupSafe>=2.0 in /Users/shubhvashishth/miniforge3/envs/Apple/lib/python3.10/site-packages (from jinja2->torch>=1.7.0->ultralytics) (2.1.2)\n",
      "Collecting mpmath>=0.19\n",
      "  Downloading mpmath-1.3.0-py3-none-any.whl (536 kB)\n",
      "\u001b[2K     \u001b[90m━━━━━━━━━━━━━━━━━━━━━━━━━━━━━━━━━━━━━━━\u001b[0m \u001b[32m536.2/536.2 kB\u001b[0m \u001b[31m7.0 MB/s\u001b[0m eta \u001b[36m0:00:00\u001b[0ma \u001b[36m0:00:01\u001b[0m\n",
      "\u001b[?25hInstalling collected packages: mpmath, tqdm, sympy, sentry-sdk, PyYAML, opencv-python, networkx, jinja2, filelock, torch, torchvision, thop, seaborn, ultralytics\n",
      "Successfully installed PyYAML-6.0 filelock-3.10.7 jinja2-3.1.2 mpmath-1.3.0 networkx-3.0 opencv-python-4.7.0.72 seaborn-0.12.2 sentry-sdk-1.18.0 sympy-1.11.1 thop-0.1.1.post2209072238 torch-2.0.0 torchvision-0.15.1 tqdm-4.65.0 ultralytics-8.0.58\n",
      "Note: you may need to restart the kernel to use updated packages.\n"
     ]
    }
   ],
   "source": [
    "#pip install ultralytics"
   ]
  },
  {
   "cell_type": "code",
   "execution_count": 1,
   "metadata": {},
   "outputs": [],
   "source": [
    "from ultralytics import YOLO"
   ]
  },
  {
   "cell_type": "code",
   "execution_count": 4,
   "metadata": {},
   "outputs": [
    {
     "name": "stdout",
     "output_type": "stream",
     "text": [
      "Ultralytics YOLOv8.0.58 🚀 Python-3.10.9 torch-2.0.0 CPU\n",
      "YOLOv8n summary (fused): 168 layers, 3151904 parameters, 0 gradients, 8.7 GFLOPs\n",
      "\n",
      "Found https://media.roboflow.com/notebooks/examples/dog.jpeg locally at dog.jpeg\n",
      "image 1/1 /Users/shubhvashishth/Desktop/object-detection/dog.jpeg: 640x384 1 person, 1 car, 1 dog, 70.5ms\n",
      "Speed: 0.5ms preprocess, 70.5ms inference, 0.9ms postprocess per image at shape (1, 3, 640, 640)\n",
      "Results saved to \u001b[1mruns/detect/predict\u001b[0m\n"
     ]
    }
   ],
   "source": [
    "#yolov8n is used for object detection \n",
    "!yolo task=detect mode=predict model=yolov8n.pt conf=0.25 source='https://media.roboflow.com/notebooks/examples/dog.jpeg' save = True"
   ]
  },
  {
   "attachments": {},
   "cell_type": "markdown",
   "metadata": {},
   "source": [
    "The yolov8n model not just detected the objects in the image but also classified it."
   ]
  },
  {
   "attachments": {},
   "cell_type": "markdown",
   "metadata": {},
   "source": [
    "While it is possible to perform custom dataset training on this model, I understand that our current task is to create a simple object detector, and thus, I will focus on fulfilling that objective. If you have any further inquiries or tasks, please do not hesitate to let me know at my mail id : shubhamvas07@gmail.com"
   ]
  }
 ],
 "metadata": {
  "kernelspec": {
   "display_name": "Apple",
   "language": "python",
   "name": "python3"
  },
  "language_info": {
   "codemirror_mode": {
    "name": "ipython",
    "version": 3
   },
   "file_extension": ".py",
   "mimetype": "text/x-python",
   "name": "python",
   "nbconvert_exporter": "python",
   "pygments_lexer": "ipython3",
   "version": "3.10.9"
  },
  "orig_nbformat": 4
 },
 "nbformat": 4,
 "nbformat_minor": 2
}
